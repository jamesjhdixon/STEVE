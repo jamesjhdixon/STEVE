{
 "cells": [
  {
   "cell_type": "code",
   "execution_count": 2,
   "metadata": {
    "collapsed": true,
    "pycharm": {
     "is_executing": false
    }
   },
   "outputs": [],
   "source": [
    "import pickle\n",
    "import pandas as pd\n",
    "import numpy as np\n",
    "import matplotlib.pyplot as plt\n",
    "import seaborn as sns\n",
    "import random  # get x random LSOAs\n",
    "import time\n",
    "\n",
    "import seaborn as sns\n",
    "\n",
    "sns.set_style('whitegrid')\n",
    "\n",
    "from Segmentation.utils.Segmentation_useful_functions import *\n",
    "\n",
    "from Segmentation.utils.Calibration_functions import *\n",
    "\n",
    "# data path for bulky data not in online repo\n",
    "DataPath = \"C:/Users/cenv0795/Data/STEVE_DATA/Scen_CarSegments/\"\n",
    "\n",
    "# load NewCars_per_LSOA\n",
    "f = open(\"./data/Cars_per_LSOA.pckl\", \"rb\")\n",
    "Cars_per_LSOA = pickle.load(f)\n",
    "f.close()\n",
    "\n",
    "LSOAs = Cars_per_LSOA.GEO_CODE.unique().tolist()\n",
    "years = range(2012, 2036)\n",
    "\n",
    "#everything is driven by NewCars_per_LSOA. Select only a subset and everything produced will be a subset\n",
    "NewCars_per_LSOA = Cars_per_LSOA[['GEO_CODE'] + ['NewCars'+str(y) for y in years]]\n",
    "TotalCars_per_LSOA = Cars_per_LSOA[['GEO_CODE'] + ['TotalCars'+str(y) for y in years]]\n",
    "\n",
    "# ---- AGE DATA FOR SCRAPPAGE MODULE ---- #\n",
    "# load age data\n",
    "f = open(\"./data/AgeProfile_by_LSOA_normalised.pckl\", 'rb')\n",
    "AgeData = pickle.load(f)\n",
    "f.close()\n",
    "\n",
    "# load delta lookup\n",
    "f = open(\"./data/delta_AvgAge_lookup.pckl\", 'rb')\n",
    "AvgAge_d_lookup = pickle.load(f)\n",
    "f.close()\n"
   ]
  },
  {
   "cell_type": "code",
   "execution_count": 3,
   "outputs": [],
   "source": [
    "LED_scenario = \"LED2\"\n",
    "\n",
    "# Cost_data\n",
    "Cost_Data = pd.read_csv(f\"./tables/Cost_Data_{LED_scenario}.csv\")\n",
    "\n",
    "# Scen_CarSegments - by LSOA - for Scotland\n",
    "f = open(f\"{DataPath}Scen_CarSegments_byLSOA_SCOTLAND_{LED_scenario}.pckl\", \"rb\")\n",
    "Scen_CarSegments = pickle.load(f)  # LSOA-specific\n",
    "f.close()\n",
    "\n",
    "# Fuel\n",
    "CT_Fuel = pd.read_csv(\"./tables/CT_Fuel.csv\")  # fuel lookup\n",
    "\n",
    "# Technology\n",
    "Technology = pd.read_csv(f\"./tables/Technology_{LED_scenario}.csv\")\n",
    "\n",
    "# exclude other vehicle types (cars only)\n",
    "Technology = Technology[Technology.VehTypeID == 3]\n",
    "\n",
    "# replace na with 2050 (for final year)\n",
    "Technology.Final_Year.fillna(int(2050), inplace=True)\n",
    "\n",
    "# only used variables (see Segmentation_useful_functions.py)\n",
    "Technology = Technology[['TechID', 'Availability', 'Final_Year', 'MassCatID', 'HybridFlag', 'FuelID']]\n",
    "\n",
    "# Cost_Data contains all necessary info on technologies. Isolate so it's just cars up to the final year\n",
    "Cost_Data = Cost_Data[(Cost_Data.VehTypeID == 3) & (Cost_Data.Year <= years[-1])]  # VehTypeID = 3 for cars\n",
    "\n",
    "# only used variables (see Segmentation_useful_functions.py)\n",
    "Cost_Data = Cost_Data[['TechID', 'Year', 'Y1Costs', 'AnnCostsPriv', 'ChargingTime', 'SupplyPenalty', 'Range',\n",
    "                       'NoChargingAccessPenalty']]"
   ],
   "metadata": {
    "collapsed": false,
    "pycharm": {
     "name": "#%%\n",
     "is_executing": false
    }
   }
  },
  {
   "cell_type": "code",
   "execution_count": 4,
   "outputs": [],
   "source": [
    "# Add columns for indiviuals who are not aware of EV incentives, without charging access\n",
    "Scen_CarSegments['shNotAwareEV'] = 1 - Scen_CarSegments['shAwareEV']\n",
    "Scen_CarSegments['shPNoAccessToOC'] = 1 - Scen_CarSegments['shPAccessToOC']\n",
    "Scen_CarSegments['shFNoCertaintyOfAccess'] = 1 - Scen_CarSegments['shFCertaintyOfAccess']\n",
    "\n",
    "# Define new dataframes for Utility/MarketSh, SumNewCars/MarketShTotal, NewCars\n",
    "SumNewCars = pd.DataFrame(columns=['Year', 'Private_Fleet', 'Size', 'Consumer', 'Charging_Access', 'SumNewCars'])\n",
    "MarketShare = pd.DataFrame(columns=['TechID', 'Year', 'Size', 'Private_Fleet', 'Consumer', 'Utility', 'MarketShare'])\n",
    "NewCars = pd.DataFrame(\n",
    "    columns=['LSOA', 'Year', 'TechID', 'Private_Fleet', 'Size', 'Consumer', 'Charging_Access', 'NewCars'])\n",
    "\n",
    "#TODO: Instantiate a NEW dataframe, TotalCars, that takes the results of NewCars and adds them to *separate* age bands to allow calculation of scrappage per yr\n",
    "TotalCars = pd.DataFrame(\n",
    "    columns=['LSOA', 'Year', 'TechID', 'Private_Fleet', 'Size', 'Consumer', 'Charging_Access'] + [\n",
    "        'TotalCars_AGE' + str(a) for a in range(22)])\n",
    "\n",
    "#TODO: TotalCars gets passed to the return_NewCars function.\n",
    "\n",
    "# Set possible configurations -- Private/Fleet, Size, Consumer, Charging_Access\n",
    "Private_Fleet_Options = ['Private', 'Fleet']\n",
    "Consumer_Segments = [['Enthusiast', 'Aspirer', 'Mass', 'Resistor'], ['UserChooser', 'FleetCar']]\n",
    "Sizes = [1, 2, 3]\n",
    "Charging_Access_Levels = [0, 1,\n",
    "                          2]"
   ],
   "metadata": {
    "collapsed": false,
    "pycharm": {
     "name": "#%%\n",
     "is_executing": false
    }
   }
  },
  {
   "cell_type": "code",
   "execution_count": 5,
   "outputs": [
    {
     "name": "stdout",
     "text": [
      "Sumnew took 0.0069959163665771484\n",
      "SumNewCars took 4.067742109298706\n",
      "MarketShare took 98.22248125076294\n",
      "marketshtot took 5.190133810043335\n",
      "newcars took 115.86280393600464\n",
      "overall time 230.5121841430664\n"
     ],
     "output_type": "stream"
    }
   ],
   "source": [
    "import time\n",
    "\n",
    "trial_cnt = 0\n",
    "while trial_cnt < 1:\n",
    "\n",
    "    # Start timer\n",
    "    segstart = time.time()\n",
    "\n",
    "    Segmentation_df = pd.DataFrame(\n",
    "        columns=['LSOA', 'Year', 'TechID', 'Private_Fleet', 'Size', 'Consumer', 'Charging_Access', 'NewCars'])\n",
    "\n",
    "    LSOA_cnt = 0\n",
    "    #sample_LSOAs = random.sample(LSOAs, 1)\n",
    "    sample_LSOAs = ['S01006998'] #this one is Aberdeen A52 6HJ (Connor's network)\n",
    "    #sample_LSOAs = ['S01006861'] #this one has shFleet = 0, shPrivate != 0\n",
    "    #sample_LSOAs = ['S01007460'] #this one has shFleet != 0, shPrivate != 0\n",
    "\n",
    "    for LSOA in sample_LSOAs:\n",
    "        SumNew = return_SumNew(NewCars_per_LSOA, LSOA)\n",
    "\n",
    "        SumNewCars = return_SumNewCars(SumNewCars, LSOA, SumNew, Scen_CarSegments, Private_Fleet_Options,\n",
    "                                       Consumer_Segments, Sizes, Charging_Access_Levels)\n",
    "\n",
    "        MarketShare = return_MarketShare(MarketShare, SumNew, Technology, Cost_Data, Private_Fleet_Options,\n",
    "                                         Consumer_Segments, NewCars,\n",
    "                                         Scen_CarSegments)\n",
    "\n",
    "        MarketShare_Total = return_MarketShare_Totals(LSOA, MarketShare, SumNew, Technology)\n",
    "\n",
    "        SumNewCars = return_MarketShTot(SumNewCars, MarketShare, Technology)\n",
    "\n",
    "        NewCars = return_NewCars(LSOA, NewCars, SumNew, SumNewCars, MarketShare, Technology, Consumer_Segments,\n",
    "                                 Private_Fleet_Options, Charging_Access_Levels)\n",
    "\n",
    "        Segmentation_df = Segmentation_df.append(NewCars[NewCars.NewCars > 0])\n",
    "\n",
    "        LSOA_cnt += 1\n",
    "\n",
    "        if LSOA_cnt % 10 == 0:\n",
    "            print(LSOA_cnt)\n",
    "\n",
    "    trial_cnt += 1\n",
    "    print('overall time', time.time()-segstart)"
   ],
   "metadata": {
    "collapsed": false,
    "pycharm": {
     "name": "#%%\n",
     "is_executing": false
    }
   }
  },
  {
   "cell_type": "code",
   "execution_count": 6,
   "outputs": [
    {
     "data": {
      "text/plain": "            LSOA  Year TechID Private_Fleet Size    Consumer Charging_Access  \\\n0      S01006998  2012     80       Private    1  Enthusiast               0   \n1      S01006998  2012     91       Private    1  Enthusiast               0   \n2      S01006998  2012    140       Private    2  Enthusiast               0   \n3      S01006998  2012    161       Private    2  Enthusiast               0   \n4      S01006998  2012    191       Private    3  Enthusiast               0   \n...          ...   ...    ...           ...  ...         ...             ...   \n13909  S01006998  2035    616         Fleet    2    FleetCar               2   \n13910  S01006998  2035    625         Fleet    1    FleetCar               2   \n13911  S01006998  2035    636         Fleet    3    FleetCar               2   \n13912  S01006998  2035    646         Fleet    3    FleetCar               2   \n13913  S01006998  2035   1706         Fleet    2    FleetCar               2   \n\n        NewCars  \n0      0.204245  \n1             0  \n2      0.146084  \n3             0  \n4             0  \n...         ...  \n13909         0  \n13910         0  \n13911         0  \n13912         0  \n13913         0  \n\n[13914 rows x 8 columns]",
      "text/html": "<div>\n<style scoped>\n    .dataframe tbody tr th:only-of-type {\n        vertical-align: middle;\n    }\n\n    .dataframe tbody tr th {\n        vertical-align: top;\n    }\n\n    .dataframe thead th {\n        text-align: right;\n    }\n</style>\n<table border=\"1\" class=\"dataframe\">\n  <thead>\n    <tr style=\"text-align: right;\">\n      <th></th>\n      <th>LSOA</th>\n      <th>Year</th>\n      <th>TechID</th>\n      <th>Private_Fleet</th>\n      <th>Size</th>\n      <th>Consumer</th>\n      <th>Charging_Access</th>\n      <th>NewCars</th>\n    </tr>\n  </thead>\n  <tbody>\n    <tr>\n      <th>0</th>\n      <td>S01006998</td>\n      <td>2012</td>\n      <td>80</td>\n      <td>Private</td>\n      <td>1</td>\n      <td>Enthusiast</td>\n      <td>0</td>\n      <td>0.204245</td>\n    </tr>\n    <tr>\n      <th>1</th>\n      <td>S01006998</td>\n      <td>2012</td>\n      <td>91</td>\n      <td>Private</td>\n      <td>1</td>\n      <td>Enthusiast</td>\n      <td>0</td>\n      <td>0</td>\n    </tr>\n    <tr>\n      <th>2</th>\n      <td>S01006998</td>\n      <td>2012</td>\n      <td>140</td>\n      <td>Private</td>\n      <td>2</td>\n      <td>Enthusiast</td>\n      <td>0</td>\n      <td>0.146084</td>\n    </tr>\n    <tr>\n      <th>3</th>\n      <td>S01006998</td>\n      <td>2012</td>\n      <td>161</td>\n      <td>Private</td>\n      <td>2</td>\n      <td>Enthusiast</td>\n      <td>0</td>\n      <td>0</td>\n    </tr>\n    <tr>\n      <th>4</th>\n      <td>S01006998</td>\n      <td>2012</td>\n      <td>191</td>\n      <td>Private</td>\n      <td>3</td>\n      <td>Enthusiast</td>\n      <td>0</td>\n      <td>0</td>\n    </tr>\n    <tr>\n      <th>...</th>\n      <td>...</td>\n      <td>...</td>\n      <td>...</td>\n      <td>...</td>\n      <td>...</td>\n      <td>...</td>\n      <td>...</td>\n      <td>...</td>\n    </tr>\n    <tr>\n      <th>13909</th>\n      <td>S01006998</td>\n      <td>2035</td>\n      <td>616</td>\n      <td>Fleet</td>\n      <td>2</td>\n      <td>FleetCar</td>\n      <td>2</td>\n      <td>0</td>\n    </tr>\n    <tr>\n      <th>13910</th>\n      <td>S01006998</td>\n      <td>2035</td>\n      <td>625</td>\n      <td>Fleet</td>\n      <td>1</td>\n      <td>FleetCar</td>\n      <td>2</td>\n      <td>0</td>\n    </tr>\n    <tr>\n      <th>13911</th>\n      <td>S01006998</td>\n      <td>2035</td>\n      <td>636</td>\n      <td>Fleet</td>\n      <td>3</td>\n      <td>FleetCar</td>\n      <td>2</td>\n      <td>0</td>\n    </tr>\n    <tr>\n      <th>13912</th>\n      <td>S01006998</td>\n      <td>2035</td>\n      <td>646</td>\n      <td>Fleet</td>\n      <td>3</td>\n      <td>FleetCar</td>\n      <td>2</td>\n      <td>0</td>\n    </tr>\n    <tr>\n      <th>13913</th>\n      <td>S01006998</td>\n      <td>2035</td>\n      <td>1706</td>\n      <td>Fleet</td>\n      <td>2</td>\n      <td>FleetCar</td>\n      <td>2</td>\n      <td>0</td>\n    </tr>\n  </tbody>\n</table>\n<p>13914 rows × 8 columns</p>\n</div>"
     },
     "metadata": {},
     "output_type": "execute_result",
     "execution_count": 6
    }
   ],
   "source": [
    "NewCars\n"
   ],
   "metadata": {
    "collapsed": false,
    "pycharm": {
     "name": "#%%\n",
     "is_executing": false
    }
   }
  },
  {
   "cell_type": "code",
   "execution_count": 7,
   "outputs": [],
   "source": [
    "TotalCars = pd.DataFrame(\n",
    "    columns=['LSOA', 'Year', 'TechID', 'Private_Fleet', 'Size', 'Consumer', 'Charging_Access'] + [\n",
    "        'TotalCars_AGE' + str(a) for a in range(22)])"
   ],
   "metadata": {
    "collapsed": false,
    "pycharm": {
     "name": "#%%\n",
     "is_executing": false
    }
   }
  },
  {
   "cell_type": "code",
   "execution_count": 8,
   "outputs": [],
   "source": [
    "LSOA_AgeData = AgeData[AgeData.GEO_CODE == LSOA]\n"
   ],
   "metadata": {
    "collapsed": false,
    "pycharm": {
     "name": "#%%\n",
     "is_executing": false
    }
   }
  },
  {
   "cell_type": "code",
   "execution_count": 10,
   "outputs": [
    {
     "data": {
      "text/plain": "        GEO_CODE  AGE_0  AGE_1  AGE_2  AGE_3  AGE_4  AGE_5  AGE_6  AGE_7  \\\n33294  S01006998      0      0     53     87     82     83     75     63   \n\n       AGE_8  ...  AGE_14  AGE_15  AGE_16  AGE_17  AGE_18  AGE_19  AGE_20  \\\n33294     53  ...      25      19      14      10       6       3       2   \n\n       AGE_21  AveAGE  TotalCars  \n33294       2  8.3416        777  \n\n[1 rows x 25 columns]",
      "text/html": "<div>\n<style scoped>\n    .dataframe tbody tr th:only-of-type {\n        vertical-align: middle;\n    }\n\n    .dataframe tbody tr th {\n        vertical-align: top;\n    }\n\n    .dataframe thead th {\n        text-align: right;\n    }\n</style>\n<table border=\"1\" class=\"dataframe\">\n  <thead>\n    <tr style=\"text-align: right;\">\n      <th></th>\n      <th>GEO_CODE</th>\n      <th>AGE_0</th>\n      <th>AGE_1</th>\n      <th>AGE_2</th>\n      <th>AGE_3</th>\n      <th>AGE_4</th>\n      <th>AGE_5</th>\n      <th>AGE_6</th>\n      <th>AGE_7</th>\n      <th>AGE_8</th>\n      <th>...</th>\n      <th>AGE_14</th>\n      <th>AGE_15</th>\n      <th>AGE_16</th>\n      <th>AGE_17</th>\n      <th>AGE_18</th>\n      <th>AGE_19</th>\n      <th>AGE_20</th>\n      <th>AGE_21</th>\n      <th>AveAGE</th>\n      <th>TotalCars</th>\n    </tr>\n  </thead>\n  <tbody>\n    <tr>\n      <th>33294</th>\n      <td>S01006998</td>\n      <td>0</td>\n      <td>0</td>\n      <td>53</td>\n      <td>87</td>\n      <td>82</td>\n      <td>83</td>\n      <td>75</td>\n      <td>63</td>\n      <td>53</td>\n      <td>...</td>\n      <td>25</td>\n      <td>19</td>\n      <td>14</td>\n      <td>10</td>\n      <td>6</td>\n      <td>3</td>\n      <td>2</td>\n      <td>2</td>\n      <td>8.3416</td>\n      <td>777</td>\n    </tr>\n  </tbody>\n</table>\n<p>1 rows × 25 columns</p>\n</div>"
     },
     "metadata": {},
     "output_type": "execute_result",
     "execution_count": 10
    }
   ],
   "source": [
    "#prelim: set up for first year (2011)\n",
    "LSOA_AgeData\n",
    "\n",
    "\n",
    "\n"
   ],
   "metadata": {
    "collapsed": false,
    "pycharm": {
     "name": "#%%\n",
     "is_executing": false
    }
   }
  },
  {
   "cell_type": "code",
   "execution_count": 32,
   "outputs": [],
   "source": [
    "cnt = 0\n",
    "base_year = 2011\n",
    "\n",
    "for year in SumNew.Year.tolist():\n",
    "    \n",
    "    # retrieve the Technologies available for this year\n",
    "    AvailableTech = Technology[(Technology.Availability <= year) & (Technology.Final_Year >= year)]\n",
    "\n",
    "    TechIDs = AvailableTech.TechID.tolist()\n",
    "\n",
    "    for P_F in Private_Fleet_Options:\n",
    "        ConsumerSegs = Consumer_Segments[Private_Fleet_Options.index(P_F)]\n",
    "\n",
    "        for Consumer in ConsumerSegs:\n",
    "\n",
    "            for Charging_Access in Charging_Access_Levels:\n",
    "\n",
    "                for TechID in TechIDs:\n",
    "                    \n",
    "                    data = NewCars[(NewCars.Year == year) & (NewCars.Private_Fleet == P_F) & (NewCars.Consumer == Consumer) & (NewCars.Charging_Access == Charging_Access) & (NewCars.TechID == TechID)]\n",
    "                    \n",
    "                    TotalCars.loc[cnt, ['LSOA', 'Year', 'TechID', 'Private_Fleet', 'Size', 'Consumer', 'Charging_Access']] = [LSOA, year, TechID, P_F, data.Size.item(), Consumer, Charging_Access]\n",
    "                    \n",
    "                    TotalCars.loc[cnt, ['TotalCars_AGE'+str(a) for a in range(22)]] = [data.NewCars.item()/NewCars[NewCars.Year == year].NewCars.sum() * element for element in LSOA_AgeData[['AGE_'+str(a) for a in range(22)]].iloc[0].tolist()]\n",
    "                    \n",
    "                    cnt += 1"
   ],
   "metadata": {
    "collapsed": false,
    "pycharm": {
     "name": "#%%\n",
     "is_executing": false
    }
   }
  },
  {
   "cell_type": "code",
   "execution_count": 33,
   "outputs": [
    {
     "data": {
      "text/plain": "            LSOA  Year TechID Private_Fleet Size    Consumer Charging_Access  \\\n0      S01006998  2012     80       Private    1  Enthusiast               0   \n1      S01006998  2012     91       Private    1  Enthusiast               0   \n2      S01006998  2012    140       Private    2  Enthusiast               0   \n3      S01006998  2012    161       Private    2  Enthusiast               0   \n4      S01006998  2012    191       Private    3  Enthusiast               0   \n...          ...   ...    ...           ...  ...         ...             ...   \n13909  S01006998  2035    616         Fleet    2    FleetCar               2   \n13910  S01006998  2035    625         Fleet    1    FleetCar               2   \n13911  S01006998  2035    636         Fleet    3    FleetCar               2   \n13912  S01006998  2035    646         Fleet    3    FleetCar               2   \n13913  S01006998  2035   1706         Fleet    2    FleetCar               2   \n\n      TotalCars_AGE0 TotalCars_AGE1 TotalCars_AGE2  ... TotalCars_AGE12  \\\n0                  0              0        1.35312  ...        0.970161   \n1                  0              0              0  ...               0   \n2                  0              0       0.967805  ...        0.693898   \n3                  0              0              0  ...               0   \n4                  0              0              0  ...               0   \n...              ...            ...            ...  ...             ...   \n13909              0              0              0  ...               0   \n13910              0              0              0  ...               0   \n13911              0              0              0  ...               0   \n13912              0              0              0  ...               0   \n13913              0              0              0  ...               0   \n\n      TotalCars_AGE13 TotalCars_AGE14 TotalCars_AGE15 TotalCars_AGE16  \\\n0            0.842509        0.638264        0.485081        0.357428   \n1                   0               0               0               0   \n2            0.602596        0.456512        0.346949        0.255647   \n3                   0               0               0               0   \n4                   0               0               0               0   \n...               ...             ...             ...             ...   \n13909               0               0               0               0   \n13910               0               0               0               0   \n13911               0               0               0               0   \n13912               0               0               0               0   \n13913               0               0               0               0   \n\n      TotalCars_AGE17 TotalCars_AGE18 TotalCars_AGE19 TotalCars_AGE20  \\\n0            0.255306        0.153183       0.0765917       0.0510611   \n1                   0               0               0               0   \n2            0.182605        0.109563       0.0547814        0.036521   \n3                   0               0               0               0   \n4                   0               0               0               0   \n...               ...             ...             ...             ...   \n13909               0               0               0               0   \n13910               0               0               0               0   \n13911               0               0               0               0   \n13912               0               0               0               0   \n13913               0               0               0               0   \n\n      TotalCars_AGE21  \n0           0.0510611  \n1                   0  \n2            0.036521  \n3                   0  \n4                   0  \n...               ...  \n13909               0  \n13910               0  \n13911               0  \n13912               0  \n13913               0  \n\n[13914 rows x 29 columns]",
      "text/html": "<div>\n<style scoped>\n    .dataframe tbody tr th:only-of-type {\n        vertical-align: middle;\n    }\n\n    .dataframe tbody tr th {\n        vertical-align: top;\n    }\n\n    .dataframe thead th {\n        text-align: right;\n    }\n</style>\n<table border=\"1\" class=\"dataframe\">\n  <thead>\n    <tr style=\"text-align: right;\">\n      <th></th>\n      <th>LSOA</th>\n      <th>Year</th>\n      <th>TechID</th>\n      <th>Private_Fleet</th>\n      <th>Size</th>\n      <th>Consumer</th>\n      <th>Charging_Access</th>\n      <th>TotalCars_AGE0</th>\n      <th>TotalCars_AGE1</th>\n      <th>TotalCars_AGE2</th>\n      <th>...</th>\n      <th>TotalCars_AGE12</th>\n      <th>TotalCars_AGE13</th>\n      <th>TotalCars_AGE14</th>\n      <th>TotalCars_AGE15</th>\n      <th>TotalCars_AGE16</th>\n      <th>TotalCars_AGE17</th>\n      <th>TotalCars_AGE18</th>\n      <th>TotalCars_AGE19</th>\n      <th>TotalCars_AGE20</th>\n      <th>TotalCars_AGE21</th>\n    </tr>\n  </thead>\n  <tbody>\n    <tr>\n      <th>0</th>\n      <td>S01006998</td>\n      <td>2012</td>\n      <td>80</td>\n      <td>Private</td>\n      <td>1</td>\n      <td>Enthusiast</td>\n      <td>0</td>\n      <td>0</td>\n      <td>0</td>\n      <td>1.35312</td>\n      <td>...</td>\n      <td>0.970161</td>\n      <td>0.842509</td>\n      <td>0.638264</td>\n      <td>0.485081</td>\n      <td>0.357428</td>\n      <td>0.255306</td>\n      <td>0.153183</td>\n      <td>0.0765917</td>\n      <td>0.0510611</td>\n      <td>0.0510611</td>\n    </tr>\n    <tr>\n      <th>1</th>\n      <td>S01006998</td>\n      <td>2012</td>\n      <td>91</td>\n      <td>Private</td>\n      <td>1</td>\n      <td>Enthusiast</td>\n      <td>0</td>\n      <td>0</td>\n      <td>0</td>\n      <td>0</td>\n      <td>...</td>\n      <td>0</td>\n      <td>0</td>\n      <td>0</td>\n      <td>0</td>\n      <td>0</td>\n      <td>0</td>\n      <td>0</td>\n      <td>0</td>\n      <td>0</td>\n      <td>0</td>\n    </tr>\n    <tr>\n      <th>2</th>\n      <td>S01006998</td>\n      <td>2012</td>\n      <td>140</td>\n      <td>Private</td>\n      <td>2</td>\n      <td>Enthusiast</td>\n      <td>0</td>\n      <td>0</td>\n      <td>0</td>\n      <td>0.967805</td>\n      <td>...</td>\n      <td>0.693898</td>\n      <td>0.602596</td>\n      <td>0.456512</td>\n      <td>0.346949</td>\n      <td>0.255647</td>\n      <td>0.182605</td>\n      <td>0.109563</td>\n      <td>0.0547814</td>\n      <td>0.036521</td>\n      <td>0.036521</td>\n    </tr>\n    <tr>\n      <th>3</th>\n      <td>S01006998</td>\n      <td>2012</td>\n      <td>161</td>\n      <td>Private</td>\n      <td>2</td>\n      <td>Enthusiast</td>\n      <td>0</td>\n      <td>0</td>\n      <td>0</td>\n      <td>0</td>\n      <td>...</td>\n      <td>0</td>\n      <td>0</td>\n      <td>0</td>\n      <td>0</td>\n      <td>0</td>\n      <td>0</td>\n      <td>0</td>\n      <td>0</td>\n      <td>0</td>\n      <td>0</td>\n    </tr>\n    <tr>\n      <th>4</th>\n      <td>S01006998</td>\n      <td>2012</td>\n      <td>191</td>\n      <td>Private</td>\n      <td>3</td>\n      <td>Enthusiast</td>\n      <td>0</td>\n      <td>0</td>\n      <td>0</td>\n      <td>0</td>\n      <td>...</td>\n      <td>0</td>\n      <td>0</td>\n      <td>0</td>\n      <td>0</td>\n      <td>0</td>\n      <td>0</td>\n      <td>0</td>\n      <td>0</td>\n      <td>0</td>\n      <td>0</td>\n    </tr>\n    <tr>\n      <th>...</th>\n      <td>...</td>\n      <td>...</td>\n      <td>...</td>\n      <td>...</td>\n      <td>...</td>\n      <td>...</td>\n      <td>...</td>\n      <td>...</td>\n      <td>...</td>\n      <td>...</td>\n      <td>...</td>\n      <td>...</td>\n      <td>...</td>\n      <td>...</td>\n      <td>...</td>\n      <td>...</td>\n      <td>...</td>\n      <td>...</td>\n      <td>...</td>\n      <td>...</td>\n      <td>...</td>\n    </tr>\n    <tr>\n      <th>13909</th>\n      <td>S01006998</td>\n      <td>2035</td>\n      <td>616</td>\n      <td>Fleet</td>\n      <td>2</td>\n      <td>FleetCar</td>\n      <td>2</td>\n      <td>0</td>\n      <td>0</td>\n      <td>0</td>\n      <td>...</td>\n      <td>0</td>\n      <td>0</td>\n      <td>0</td>\n      <td>0</td>\n      <td>0</td>\n      <td>0</td>\n      <td>0</td>\n      <td>0</td>\n      <td>0</td>\n      <td>0</td>\n    </tr>\n    <tr>\n      <th>13910</th>\n      <td>S01006998</td>\n      <td>2035</td>\n      <td>625</td>\n      <td>Fleet</td>\n      <td>1</td>\n      <td>FleetCar</td>\n      <td>2</td>\n      <td>0</td>\n      <td>0</td>\n      <td>0</td>\n      <td>...</td>\n      <td>0</td>\n      <td>0</td>\n      <td>0</td>\n      <td>0</td>\n      <td>0</td>\n      <td>0</td>\n      <td>0</td>\n      <td>0</td>\n      <td>0</td>\n      <td>0</td>\n    </tr>\n    <tr>\n      <th>13911</th>\n      <td>S01006998</td>\n      <td>2035</td>\n      <td>636</td>\n      <td>Fleet</td>\n      <td>3</td>\n      <td>FleetCar</td>\n      <td>2</td>\n      <td>0</td>\n      <td>0</td>\n      <td>0</td>\n      <td>...</td>\n      <td>0</td>\n      <td>0</td>\n      <td>0</td>\n      <td>0</td>\n      <td>0</td>\n      <td>0</td>\n      <td>0</td>\n      <td>0</td>\n      <td>0</td>\n      <td>0</td>\n    </tr>\n    <tr>\n      <th>13912</th>\n      <td>S01006998</td>\n      <td>2035</td>\n      <td>646</td>\n      <td>Fleet</td>\n      <td>3</td>\n      <td>FleetCar</td>\n      <td>2</td>\n      <td>0</td>\n      <td>0</td>\n      <td>0</td>\n      <td>...</td>\n      <td>0</td>\n      <td>0</td>\n      <td>0</td>\n      <td>0</td>\n      <td>0</td>\n      <td>0</td>\n      <td>0</td>\n      <td>0</td>\n      <td>0</td>\n      <td>0</td>\n    </tr>\n    <tr>\n      <th>13913</th>\n      <td>S01006998</td>\n      <td>2035</td>\n      <td>1706</td>\n      <td>Fleet</td>\n      <td>2</td>\n      <td>FleetCar</td>\n      <td>2</td>\n      <td>0</td>\n      <td>0</td>\n      <td>0</td>\n      <td>...</td>\n      <td>0</td>\n      <td>0</td>\n      <td>0</td>\n      <td>0</td>\n      <td>0</td>\n      <td>0</td>\n      <td>0</td>\n      <td>0</td>\n      <td>0</td>\n      <td>0</td>\n    </tr>\n  </tbody>\n</table>\n<p>13914 rows × 29 columns</p>\n</div>"
     },
     "metadata": {},
     "output_type": "execute_result",
     "execution_count": 33
    }
   ],
   "source": [
    "TotalCars"
   ],
   "metadata": {
    "collapsed": false,
    "pycharm": {
     "name": "#%%\n",
     "is_executing": false
    }
   }
  },
  {
   "cell_type": "code",
   "execution_count": 16,
   "outputs": [],
   "source": [
    "data = NewCars[(NewCars.Year == year) & (NewCars.Private_Fleet == P_F) & (NewCars.Consumer == Consumer) & (NewCars.Charging_Access == Charging_Access) & (NewCars.TechID == TechID)]\n"
   ],
   "metadata": {
    "collapsed": false,
    "pycharm": {
     "name": "#%%\n",
     "is_executing": false
    }
   }
  },
  {
   "cell_type": "code",
   "execution_count": 41,
   "outputs": [
    {
     "data": {
      "text/plain": "        GEO_CODE  AGE_0  AGE_1  AGE_2  AGE_3  AGE_4  AGE_5  AGE_6  AGE_7  \\\n33294  S01006998      0      0     53     87     82     83     75     63   \n\n       AGE_8  ...  AGE_14  AGE_15  AGE_16  AGE_17  AGE_18  AGE_19  AGE_20  \\\n33294     53  ...      25      19      14      10       6       3       2   \n\n       AGE_21  AveAGE  TotalCars  \n33294       2  8.3416        777  \n\n[1 rows x 25 columns]",
      "text/html": "<div>\n<style scoped>\n    .dataframe tbody tr th:only-of-type {\n        vertical-align: middle;\n    }\n\n    .dataframe tbody tr th {\n        vertical-align: top;\n    }\n\n    .dataframe thead th {\n        text-align: right;\n    }\n</style>\n<table border=\"1\" class=\"dataframe\">\n  <thead>\n    <tr style=\"text-align: right;\">\n      <th></th>\n      <th>GEO_CODE</th>\n      <th>AGE_0</th>\n      <th>AGE_1</th>\n      <th>AGE_2</th>\n      <th>AGE_3</th>\n      <th>AGE_4</th>\n      <th>AGE_5</th>\n      <th>AGE_6</th>\n      <th>AGE_7</th>\n      <th>AGE_8</th>\n      <th>...</th>\n      <th>AGE_14</th>\n      <th>AGE_15</th>\n      <th>AGE_16</th>\n      <th>AGE_17</th>\n      <th>AGE_18</th>\n      <th>AGE_19</th>\n      <th>AGE_20</th>\n      <th>AGE_21</th>\n      <th>AveAGE</th>\n      <th>TotalCars</th>\n    </tr>\n  </thead>\n  <tbody>\n    <tr>\n      <th>33294</th>\n      <td>S01006998</td>\n      <td>0</td>\n      <td>0</td>\n      <td>53</td>\n      <td>87</td>\n      <td>82</td>\n      <td>83</td>\n      <td>75</td>\n      <td>63</td>\n      <td>53</td>\n      <td>...</td>\n      <td>25</td>\n      <td>19</td>\n      <td>14</td>\n      <td>10</td>\n      <td>6</td>\n      <td>3</td>\n      <td>2</td>\n      <td>2</td>\n      <td>8.3416</td>\n      <td>777</td>\n    </tr>\n  </tbody>\n</table>\n<p>1 rows × 25 columns</p>\n</div>"
     },
     "metadata": {},
     "output_type": "execute_result",
     "execution_count": 41
    }
   ],
   "source": [
    "LSOA_AgeData"
   ],
   "metadata": {
    "collapsed": false,
    "pycharm": {
     "name": "#%%\n",
     "is_executing": false
    }
   }
  },
  {
   "cell_type": "code",
   "execution_count": 37,
   "outputs": [
    {
     "data": {
      "text/plain": "TotalCars_AGE0      0.0\nTotalCars_AGE1      0.0\nTotalCars_AGE2     53.0\nTotalCars_AGE3     87.0\nTotalCars_AGE4     82.0\nTotalCars_AGE5     83.0\nTotalCars_AGE6     75.0\nTotalCars_AGE7     63.0\nTotalCars_AGE8     53.0\nTotalCars_AGE9     48.0\nTotalCars_AGE10    45.0\nTotalCars_AGE11    36.0\nTotalCars_AGE12    38.0\nTotalCars_AGE13    33.0\nTotalCars_AGE14    25.0\nTotalCars_AGE15    19.0\nTotalCars_AGE16    14.0\nTotalCars_AGE17    10.0\nTotalCars_AGE18     6.0\nTotalCars_AGE19     3.0\nTotalCars_AGE20     2.0\nTotalCars_AGE21     2.0\ndtype: float64"
     },
     "metadata": {},
     "output_type": "execute_result",
     "execution_count": 37
    }
   ],
   "source": [
    "TotalCars[TotalCars.Year==2012][['TotalCars_AGE'+str(k) for k in range(22)]].sum()\n"
   ],
   "metadata": {
    "collapsed": false,
    "pycharm": {
     "name": "#%%\n",
     "is_executing": false
    }
   }
  }
 ],
 "metadata": {
  "kernelspec": {
   "display_name": "Python 3",
   "language": "python",
   "name": "python3"
  },
  "language_info": {
   "codemirror_mode": {
    "name": "ipython",
    "version": 2
   },
   "file_extension": ".py",
   "mimetype": "text/x-python",
   "name": "python",
   "nbconvert_exporter": "python",
   "pygments_lexer": "ipython2",
   "version": "2.7.6"
  },
  "pycharm": {
   "stem_cell": {
    "cell_type": "raw",
    "source": [],
    "metadata": {
     "collapsed": false
    }
   }
  }
 },
 "nbformat": 4,
 "nbformat_minor": 0
}