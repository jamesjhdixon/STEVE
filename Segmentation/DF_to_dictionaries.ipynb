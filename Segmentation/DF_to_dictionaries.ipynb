{
 "cells": [
  {
   "cell_type": "code",
   "execution_count": 1,
   "metadata": {
    "collapsed": true,
    "pycharm": {
     "is_executing": false
    }
   },
   "outputs": [],
   "source": [
    "import pickle\n",
    "\n",
    "f = open('example_dataframes.pckl','rb')\n",
    "SumNew, SumNewCars, NewCars, MarketShare, MarketShare_Total = pickle.load(f)\n",
    "f.close()"
   ]
  },
  {
   "cell_type": "code",
   "execution_count": 4,
   "outputs": [
    {
     "data": {
      "text/plain": "    Year  TotalCars\n0   2012       36.0\n1   2013       37.0\n2   2014       44.0\n3   2015       53.0\n4   2016       55.0\n5   2017       61.0\n6   2018       65.0\n7   2019       67.0\n8   2020       68.0\n9   2021       69.0\n10  2022       70.0\n11  2023       71.0\n12  2024       70.0\n13  2025       66.0\n14  2026       64.0\n15  2027       63.0\n16  2028       56.0\n17  2029       50.0\n18  2030       48.0\n19  2031       43.0\n20  2032       43.0\n21  2033       52.0\n22  2034       59.0\n23  2035       62.0",
      "text/html": "<div>\n<style scoped>\n    .dataframe tbody tr th:only-of-type {\n        vertical-align: middle;\n    }\n\n    .dataframe tbody tr th {\n        vertical-align: top;\n    }\n\n    .dataframe thead th {\n        text-align: right;\n    }\n</style>\n<table border=\"1\" class=\"dataframe\">\n  <thead>\n    <tr style=\"text-align: right;\">\n      <th></th>\n      <th>Year</th>\n      <th>TotalCars</th>\n    </tr>\n  </thead>\n  <tbody>\n    <tr>\n      <th>0</th>\n      <td>2012</td>\n      <td>36.0</td>\n    </tr>\n    <tr>\n      <th>1</th>\n      <td>2013</td>\n      <td>37.0</td>\n    </tr>\n    <tr>\n      <th>2</th>\n      <td>2014</td>\n      <td>44.0</td>\n    </tr>\n    <tr>\n      <th>3</th>\n      <td>2015</td>\n      <td>53.0</td>\n    </tr>\n    <tr>\n      <th>4</th>\n      <td>2016</td>\n      <td>55.0</td>\n    </tr>\n    <tr>\n      <th>5</th>\n      <td>2017</td>\n      <td>61.0</td>\n    </tr>\n    <tr>\n      <th>6</th>\n      <td>2018</td>\n      <td>65.0</td>\n    </tr>\n    <tr>\n      <th>7</th>\n      <td>2019</td>\n      <td>67.0</td>\n    </tr>\n    <tr>\n      <th>8</th>\n      <td>2020</td>\n      <td>68.0</td>\n    </tr>\n    <tr>\n      <th>9</th>\n      <td>2021</td>\n      <td>69.0</td>\n    </tr>\n    <tr>\n      <th>10</th>\n      <td>2022</td>\n      <td>70.0</td>\n    </tr>\n    <tr>\n      <th>11</th>\n      <td>2023</td>\n      <td>71.0</td>\n    </tr>\n    <tr>\n      <th>12</th>\n      <td>2024</td>\n      <td>70.0</td>\n    </tr>\n    <tr>\n      <th>13</th>\n      <td>2025</td>\n      <td>66.0</td>\n    </tr>\n    <tr>\n      <th>14</th>\n      <td>2026</td>\n      <td>64.0</td>\n    </tr>\n    <tr>\n      <th>15</th>\n      <td>2027</td>\n      <td>63.0</td>\n    </tr>\n    <tr>\n      <th>16</th>\n      <td>2028</td>\n      <td>56.0</td>\n    </tr>\n    <tr>\n      <th>17</th>\n      <td>2029</td>\n      <td>50.0</td>\n    </tr>\n    <tr>\n      <th>18</th>\n      <td>2030</td>\n      <td>48.0</td>\n    </tr>\n    <tr>\n      <th>19</th>\n      <td>2031</td>\n      <td>43.0</td>\n    </tr>\n    <tr>\n      <th>20</th>\n      <td>2032</td>\n      <td>43.0</td>\n    </tr>\n    <tr>\n      <th>21</th>\n      <td>2033</td>\n      <td>52.0</td>\n    </tr>\n    <tr>\n      <th>22</th>\n      <td>2034</td>\n      <td>59.0</td>\n    </tr>\n    <tr>\n      <th>23</th>\n      <td>2035</td>\n      <td>62.0</td>\n    </tr>\n  </tbody>\n</table>\n</div>"
     },
     "metadata": {},
     "output_type": "execute_result",
     "execution_count": 4
    }
   ],
   "source": [
    "SumNew"
   ],
   "metadata": {
    "collapsed": false,
    "pycharm": {
     "name": "#%%\n",
     "is_executing": false
    }
   }
  },
  {
   "cell_type": "code",
   "execution_count": 5,
   "outputs": [
    {
     "data": {
      "text/plain": "{2012: 36.0,\n 2013: 37.0,\n 2014: 44.0,\n 2015: 53.0,\n 2016: 55.0,\n 2017: 61.0,\n 2018: 65.0,\n 2019: 67.0,\n 2020: 68.0,\n 2021: 69.0,\n 2022: 70.0,\n 2023: 71.0,\n 2024: 70.0,\n 2025: 66.0,\n 2026: 64.0,\n 2027: 63.0,\n 2028: 56.0,\n 2029: 50.0,\n 2030: 48.0,\n 2031: 43.0,\n 2032: 43.0,\n 2033: 52.0,\n 2034: 59.0,\n 2035: 62.0}"
     },
     "metadata": {},
     "output_type": "execute_result",
     "execution_count": 5
    }
   ],
   "source": [
    "# Convert SumNew into dict - easy one?\n",
    "SumNew_dict = dict()\n",
    "for year in SumNew['Year'].tolist():\n",
    "    SumNew_dict[year] = SumNew[SumNew['Year'] == year].TotalCars.item()\n",
    "\n",
    "SumNew_dict\n"
   ],
   "metadata": {
    "collapsed": false,
    "pycharm": {
     "name": "#%%\n",
     "is_executing": false
    }
   }
  },
  {
   "cell_type": "code",
   "execution_count": 7,
   "outputs": [
    {
     "data": {
      "text/plain": "      Year Private_Fleet Size    Consumer Charging_Access SumNewCars  \\\n0     2012       Private    1  Enthusiast               0    2.58625   \n1     2012       Private    1  Enthusiast               1   0.279098   \n2     2012       Private    1  Enthusiast               2   0.114264   \n3     2012       Private    2  Enthusiast               0    1.32969   \n4     2012       Private    2  Enthusiast               1   0.143495   \n...    ...           ...  ...         ...             ...        ...   \n1291  2035         Fleet    2    FleetCar               1          0   \n1292  2035         Fleet    2    FleetCar               2          0   \n1293  2035         Fleet    3    FleetCar               0          0   \n1294  2035         Fleet    3    FleetCar               1          0   \n1295  2035         Fleet    3    FleetCar               2          0   \n\n      MarketShTotal  \n0      7.988824e-05  \n1      8.042229e-05  \n2      8.005093e-05  \n3      5.775617e-07  \n4      5.895020e-07  \n...             ...  \n1291   2.997252e-06  \n1292   1.392300e-22  \n1293   0.000000e+00  \n1294   1.771086e-08  \n1295   4.326556e-25  \n\n[1296 rows x 7 columns]",
      "text/html": "<div>\n<style scoped>\n    .dataframe tbody tr th:only-of-type {\n        vertical-align: middle;\n    }\n\n    .dataframe tbody tr th {\n        vertical-align: top;\n    }\n\n    .dataframe thead th {\n        text-align: right;\n    }\n</style>\n<table border=\"1\" class=\"dataframe\">\n  <thead>\n    <tr style=\"text-align: right;\">\n      <th></th>\n      <th>Year</th>\n      <th>Private_Fleet</th>\n      <th>Size</th>\n      <th>Consumer</th>\n      <th>Charging_Access</th>\n      <th>SumNewCars</th>\n      <th>MarketShTotal</th>\n    </tr>\n  </thead>\n  <tbody>\n    <tr>\n      <th>0</th>\n      <td>2012</td>\n      <td>Private</td>\n      <td>1</td>\n      <td>Enthusiast</td>\n      <td>0</td>\n      <td>2.58625</td>\n      <td>7.988824e-05</td>\n    </tr>\n    <tr>\n      <th>1</th>\n      <td>2012</td>\n      <td>Private</td>\n      <td>1</td>\n      <td>Enthusiast</td>\n      <td>1</td>\n      <td>0.279098</td>\n      <td>8.042229e-05</td>\n    </tr>\n    <tr>\n      <th>2</th>\n      <td>2012</td>\n      <td>Private</td>\n      <td>1</td>\n      <td>Enthusiast</td>\n      <td>2</td>\n      <td>0.114264</td>\n      <td>8.005093e-05</td>\n    </tr>\n    <tr>\n      <th>3</th>\n      <td>2012</td>\n      <td>Private</td>\n      <td>2</td>\n      <td>Enthusiast</td>\n      <td>0</td>\n      <td>1.32969</td>\n      <td>5.775617e-07</td>\n    </tr>\n    <tr>\n      <th>4</th>\n      <td>2012</td>\n      <td>Private</td>\n      <td>2</td>\n      <td>Enthusiast</td>\n      <td>1</td>\n      <td>0.143495</td>\n      <td>5.895020e-07</td>\n    </tr>\n    <tr>\n      <th>...</th>\n      <td>...</td>\n      <td>...</td>\n      <td>...</td>\n      <td>...</td>\n      <td>...</td>\n      <td>...</td>\n      <td>...</td>\n    </tr>\n    <tr>\n      <th>1291</th>\n      <td>2035</td>\n      <td>Fleet</td>\n      <td>2</td>\n      <td>FleetCar</td>\n      <td>1</td>\n      <td>0</td>\n      <td>2.997252e-06</td>\n    </tr>\n    <tr>\n      <th>1292</th>\n      <td>2035</td>\n      <td>Fleet</td>\n      <td>2</td>\n      <td>FleetCar</td>\n      <td>2</td>\n      <td>0</td>\n      <td>1.392300e-22</td>\n    </tr>\n    <tr>\n      <th>1293</th>\n      <td>2035</td>\n      <td>Fleet</td>\n      <td>3</td>\n      <td>FleetCar</td>\n      <td>0</td>\n      <td>0</td>\n      <td>0.000000e+00</td>\n    </tr>\n    <tr>\n      <th>1294</th>\n      <td>2035</td>\n      <td>Fleet</td>\n      <td>3</td>\n      <td>FleetCar</td>\n      <td>1</td>\n      <td>0</td>\n      <td>1.771086e-08</td>\n    </tr>\n    <tr>\n      <th>1295</th>\n      <td>2035</td>\n      <td>Fleet</td>\n      <td>3</td>\n      <td>FleetCar</td>\n      <td>2</td>\n      <td>0</td>\n      <td>4.326556e-25</td>\n    </tr>\n  </tbody>\n</table>\n<p>1296 rows × 7 columns</p>\n</div>"
     },
     "metadata": {},
     "output_type": "execute_result",
     "execution_count": 7
    }
   ],
   "source": [
    "SumNewCars"
   ],
   "metadata": {
    "collapsed": false,
    "pycharm": {
     "name": "#%%\n",
     "is_executing": false
    }
   }
  },
  {
   "cell_type": "code",
   "execution_count": 10,
   "outputs": [
    {
     "data": {
      "text/plain": "     TechID  ModeID  VehTypeID  MassCatID  FuelID  EngineID  TransTypeID  \\\n8        70       1          3          1       1         1            1   \n9        80       1          3          1       1        14            1   \n10       81       1          3          1       1        15            1   \n11       82       1          3          1       1        16            1   \n12       83       1          3          1       1        17            1   \n..      ...     ...        ...        ...     ...       ...          ...   \n641    1704       1          3          2      12        17            1   \n642    1705       1          3          2      12        18            1   \n643    1706       1          3          2      12        19            1   \n644    1707       1          3          2      12        20            1   \n645    1708       1          3          2      12        21            1   \n\n     Availability  Final_Year  HybridFlag  spec_energ_consump  \\\n8            1980      1991.0           0            8.362769   \n9            2009      2014.0           0            7.309161   \n10           2015      2019.0           0            6.709962   \n11           2020      2024.0           0            6.227565   \n12           2025      2029.0           0            5.774301   \n..            ...         ...         ...                 ...   \n641          2025      2029.0           0           17.615841   \n642          2030      2034.0           0           16.333698   \n643          2035      2039.0           0           15.144875   \n644          2040      2044.0           0           14.042577   \n645          2045      2050.0           0           13.020509   \n\n     spec_energ_electric  noise_class  PurchasePrice  ExpectedLifeFactor  \\\n8                    NaN            0        10000.0                   1   \n9                    NaN            1        10000.0                   1   \n10                   NaN            1        10000.0                   1   \n11                   NaN            1        10000.0                   1   \n12                   NaN            1        10000.0                   1   \n..                   ...          ...            ...                 ...   \n641                  NaN            2        17500.0                   1   \n642                  NaN            2        15000.0                   1   \n643                  NaN            2        15000.0                   1   \n644                  NaN            2        15000.0                   1   \n645                  NaN            2        15000.0                   1   \n\n     Capacity  AveEconLife  \n8         5.0           12  \n9         5.0           12  \n10        5.0           12  \n11        5.0           12  \n12        5.0           12  \n..        ...          ...  \n641       5.0           12  \n642       5.0           12  \n643       5.0           12  \n644       5.0           12  \n645       5.0           12  \n\n[283 rows x 17 columns]",
      "text/html": "<div>\n<style scoped>\n    .dataframe tbody tr th:only-of-type {\n        vertical-align: middle;\n    }\n\n    .dataframe tbody tr th {\n        vertical-align: top;\n    }\n\n    .dataframe thead th {\n        text-align: right;\n    }\n</style>\n<table border=\"1\" class=\"dataframe\">\n  <thead>\n    <tr style=\"text-align: right;\">\n      <th></th>\n      <th>TechID</th>\n      <th>ModeID</th>\n      <th>VehTypeID</th>\n      <th>MassCatID</th>\n      <th>FuelID</th>\n      <th>EngineID</th>\n      <th>TransTypeID</th>\n      <th>Availability</th>\n      <th>Final_Year</th>\n      <th>HybridFlag</th>\n      <th>spec_energ_consump</th>\n      <th>spec_energ_electric</th>\n      <th>noise_class</th>\n      <th>PurchasePrice</th>\n      <th>ExpectedLifeFactor</th>\n      <th>Capacity</th>\n      <th>AveEconLife</th>\n    </tr>\n  </thead>\n  <tbody>\n    <tr>\n      <th>8</th>\n      <td>70</td>\n      <td>1</td>\n      <td>3</td>\n      <td>1</td>\n      <td>1</td>\n      <td>1</td>\n      <td>1</td>\n      <td>1980</td>\n      <td>1991.0</td>\n      <td>0</td>\n      <td>8.362769</td>\n      <td>NaN</td>\n      <td>0</td>\n      <td>10000.0</td>\n      <td>1</td>\n      <td>5.0</td>\n      <td>12</td>\n    </tr>\n    <tr>\n      <th>9</th>\n      <td>80</td>\n      <td>1</td>\n      <td>3</td>\n      <td>1</td>\n      <td>1</td>\n      <td>14</td>\n      <td>1</td>\n      <td>2009</td>\n      <td>2014.0</td>\n      <td>0</td>\n      <td>7.309161</td>\n      <td>NaN</td>\n      <td>1</td>\n      <td>10000.0</td>\n      <td>1</td>\n      <td>5.0</td>\n      <td>12</td>\n    </tr>\n    <tr>\n      <th>10</th>\n      <td>81</td>\n      <td>1</td>\n      <td>3</td>\n      <td>1</td>\n      <td>1</td>\n      <td>15</td>\n      <td>1</td>\n      <td>2015</td>\n      <td>2019.0</td>\n      <td>0</td>\n      <td>6.709962</td>\n      <td>NaN</td>\n      <td>1</td>\n      <td>10000.0</td>\n      <td>1</td>\n      <td>5.0</td>\n      <td>12</td>\n    </tr>\n    <tr>\n      <th>11</th>\n      <td>82</td>\n      <td>1</td>\n      <td>3</td>\n      <td>1</td>\n      <td>1</td>\n      <td>16</td>\n      <td>1</td>\n      <td>2020</td>\n      <td>2024.0</td>\n      <td>0</td>\n      <td>6.227565</td>\n      <td>NaN</td>\n      <td>1</td>\n      <td>10000.0</td>\n      <td>1</td>\n      <td>5.0</td>\n      <td>12</td>\n    </tr>\n    <tr>\n      <th>12</th>\n      <td>83</td>\n      <td>1</td>\n      <td>3</td>\n      <td>1</td>\n      <td>1</td>\n      <td>17</td>\n      <td>1</td>\n      <td>2025</td>\n      <td>2029.0</td>\n      <td>0</td>\n      <td>5.774301</td>\n      <td>NaN</td>\n      <td>1</td>\n      <td>10000.0</td>\n      <td>1</td>\n      <td>5.0</td>\n      <td>12</td>\n    </tr>\n    <tr>\n      <th>...</th>\n      <td>...</td>\n      <td>...</td>\n      <td>...</td>\n      <td>...</td>\n      <td>...</td>\n      <td>...</td>\n      <td>...</td>\n      <td>...</td>\n      <td>...</td>\n      <td>...</td>\n      <td>...</td>\n      <td>...</td>\n      <td>...</td>\n      <td>...</td>\n      <td>...</td>\n      <td>...</td>\n      <td>...</td>\n    </tr>\n    <tr>\n      <th>641</th>\n      <td>1704</td>\n      <td>1</td>\n      <td>3</td>\n      <td>2</td>\n      <td>12</td>\n      <td>17</td>\n      <td>1</td>\n      <td>2025</td>\n      <td>2029.0</td>\n      <td>0</td>\n      <td>17.615841</td>\n      <td>NaN</td>\n      <td>2</td>\n      <td>17500.0</td>\n      <td>1</td>\n      <td>5.0</td>\n      <td>12</td>\n    </tr>\n    <tr>\n      <th>642</th>\n      <td>1705</td>\n      <td>1</td>\n      <td>3</td>\n      <td>2</td>\n      <td>12</td>\n      <td>18</td>\n      <td>1</td>\n      <td>2030</td>\n      <td>2034.0</td>\n      <td>0</td>\n      <td>16.333698</td>\n      <td>NaN</td>\n      <td>2</td>\n      <td>15000.0</td>\n      <td>1</td>\n      <td>5.0</td>\n      <td>12</td>\n    </tr>\n    <tr>\n      <th>643</th>\n      <td>1706</td>\n      <td>1</td>\n      <td>3</td>\n      <td>2</td>\n      <td>12</td>\n      <td>19</td>\n      <td>1</td>\n      <td>2035</td>\n      <td>2039.0</td>\n      <td>0</td>\n      <td>15.144875</td>\n      <td>NaN</td>\n      <td>2</td>\n      <td>15000.0</td>\n      <td>1</td>\n      <td>5.0</td>\n      <td>12</td>\n    </tr>\n    <tr>\n      <th>644</th>\n      <td>1707</td>\n      <td>1</td>\n      <td>3</td>\n      <td>2</td>\n      <td>12</td>\n      <td>20</td>\n      <td>1</td>\n      <td>2040</td>\n      <td>2044.0</td>\n      <td>0</td>\n      <td>14.042577</td>\n      <td>NaN</td>\n      <td>2</td>\n      <td>15000.0</td>\n      <td>1</td>\n      <td>5.0</td>\n      <td>12</td>\n    </tr>\n    <tr>\n      <th>645</th>\n      <td>1708</td>\n      <td>1</td>\n      <td>3</td>\n      <td>2</td>\n      <td>12</td>\n      <td>21</td>\n      <td>1</td>\n      <td>2045</td>\n      <td>2050.0</td>\n      <td>0</td>\n      <td>13.020509</td>\n      <td>NaN</td>\n      <td>2</td>\n      <td>15000.0</td>\n      <td>1</td>\n      <td>5.0</td>\n      <td>12</td>\n    </tr>\n  </tbody>\n</table>\n<p>283 rows × 17 columns</p>\n</div>"
     },
     "metadata": {},
     "output_type": "execute_result",
     "execution_count": 10
    }
   ],
   "source": [
    "# All of this is predicated on tables like Technology and Cost_Data which are fucking massive. Can we turn them into dicts\n",
    "import pandas as pd\n",
    "LED_scenario = 'LED1'\n",
    "# Technology\n",
    "Technology = pd.read_csv(f\"./tables/Technology_{LED_scenario}.csv\")\n",
    "\n",
    "# exclude other vehicle types (cars only)\n",
    "Technology = Technology[Technology.VehTypeID == 3]\n",
    "\n",
    "# replace na with 2050 (for final year)\n",
    "Technology.Final_Year.fillna(int(2050), inplace=True)\n",
    "\n",
    "Technology"
   ],
   "metadata": {
    "collapsed": false,
    "pycharm": {
     "name": "#%%\n",
     "is_executing": false
    }
   }
  },
  {
   "cell_type": "code",
   "execution_count": 11,
   "outputs": [
    {
     "data": {
      "text/plain": "       ScenarioID  CountryID  PolicyID  Year  TechID  TransTypeID  VehTypeID  \\\n5               1          9         0  2012      70            1          3   \n6               1          9         0  2012      80            1          3   \n7               1          9         0  2012      90            1          3   \n8               1          9         0  2012      91            1          3   \n9               1          9         0  2012     100            1          3   \n...           ...        ...       ...   ...     ...          ...        ...   \n32291           1          9         0  2050    1704            1          3   \n32292           1          9         0  2050    1705            1          3   \n32293           1          9         0  2050    1706            1          3   \n32294           1          9         0  2050    1707            1          3   \n32295           1          9         0  2050    1708            1          3   \n\n       MassCatID  FuelID  HybridFlag  ...  AnnCostsPriv  AnnCostsCompUser  \\\n5              1       1           0  ...   2633.238281       5275.646973   \n6              1       1           0  ...   2464.564941       4697.342285   \n7              1       1           0  ...   2502.398193       4886.208984   \n8              1       1           2  ...   1746.012939       2809.348389   \n9              1       1           0  ...   2587.796631       5094.404785   \n...          ...     ...         ...  ...           ...               ...   \n32291          2      12           0  ...   2781.099854       3458.062988   \n32292          2      12           0  ...   2738.805420       3354.724365   \n32293          2      12           0  ...   2699.589111       3281.160400   \n32294          2      12           0  ...   2663.227295       3212.950439   \n32295          2      12           0  ...   2629.511963       3149.705322   \n\n       AnnCostsCompFleet  NoChargingAccessPenalty  ChargingTime  \\\n5            3018.431396                        0      0.000000   \n6            2801.228271                        0      0.000000   \n7            2854.805908                        0      0.000000   \n8            1912.898926                     1230      1.433333   \n9            2961.603271                        0      0.000000   \n...                  ...                      ...           ...   \n32291        2926.708740                     2000      0.800000   \n32292        2873.816406                     2000      0.800000   \n32293        2824.773682                     2000      0.800000   \n32294        2779.300293                     2000      0.800000   \n32295        2737.136963                     2000      0.800000   \n\n       SupplyPenalty  Range          TCO  FVDepreciation  FVRunningCost  \n5                0.0      0  20494.77344          8400.0    3465.551514  \n6                0.0      0  19447.76367          8400.0    3165.548340  \n7                0.0      0  19750.33789          8400.0    3252.245850  \n8           100000.0      0  22653.96094         15400.0    2078.499023  \n9                0.0      0  20180.85547          8400.0    3375.603271  \n...              ...    ...          ...             ...            ...  \n32291            0.0    220  25216.49414         14700.0    2984.668701  \n32292            0.0    240  22903.00195         12600.0    2923.496338  \n32293            0.0    260  22731.84375         12600.0    2874.453613  \n32294            0.0    280  22573.14063         12600.0    2828.980469  \n32295            0.0    300  22425.99023         12600.0    2786.816895  \n\n[7466 rows x 25 columns]",
      "text/html": "<div>\n<style scoped>\n    .dataframe tbody tr th:only-of-type {\n        vertical-align: middle;\n    }\n\n    .dataframe tbody tr th {\n        vertical-align: top;\n    }\n\n    .dataframe thead th {\n        text-align: right;\n    }\n</style>\n<table border=\"1\" class=\"dataframe\">\n  <thead>\n    <tr style=\"text-align: right;\">\n      <th></th>\n      <th>ScenarioID</th>\n      <th>CountryID</th>\n      <th>PolicyID</th>\n      <th>Year</th>\n      <th>TechID</th>\n      <th>TransTypeID</th>\n      <th>VehTypeID</th>\n      <th>MassCatID</th>\n      <th>FuelID</th>\n      <th>HybridFlag</th>\n      <th>...</th>\n      <th>AnnCostsPriv</th>\n      <th>AnnCostsCompUser</th>\n      <th>AnnCostsCompFleet</th>\n      <th>NoChargingAccessPenalty</th>\n      <th>ChargingTime</th>\n      <th>SupplyPenalty</th>\n      <th>Range</th>\n      <th>TCO</th>\n      <th>FVDepreciation</th>\n      <th>FVRunningCost</th>\n    </tr>\n  </thead>\n  <tbody>\n    <tr>\n      <th>5</th>\n      <td>1</td>\n      <td>9</td>\n      <td>0</td>\n      <td>2012</td>\n      <td>70</td>\n      <td>1</td>\n      <td>3</td>\n      <td>1</td>\n      <td>1</td>\n      <td>0</td>\n      <td>...</td>\n      <td>2633.238281</td>\n      <td>5275.646973</td>\n      <td>3018.431396</td>\n      <td>0</td>\n      <td>0.000000</td>\n      <td>0.0</td>\n      <td>0</td>\n      <td>20494.77344</td>\n      <td>8400.0</td>\n      <td>3465.551514</td>\n    </tr>\n    <tr>\n      <th>6</th>\n      <td>1</td>\n      <td>9</td>\n      <td>0</td>\n      <td>2012</td>\n      <td>80</td>\n      <td>1</td>\n      <td>3</td>\n      <td>1</td>\n      <td>1</td>\n      <td>0</td>\n      <td>...</td>\n      <td>2464.564941</td>\n      <td>4697.342285</td>\n      <td>2801.228271</td>\n      <td>0</td>\n      <td>0.000000</td>\n      <td>0.0</td>\n      <td>0</td>\n      <td>19447.76367</td>\n      <td>8400.0</td>\n      <td>3165.548340</td>\n    </tr>\n    <tr>\n      <th>7</th>\n      <td>1</td>\n      <td>9</td>\n      <td>0</td>\n      <td>2012</td>\n      <td>90</td>\n      <td>1</td>\n      <td>3</td>\n      <td>1</td>\n      <td>1</td>\n      <td>0</td>\n      <td>...</td>\n      <td>2502.398193</td>\n      <td>4886.208984</td>\n      <td>2854.805908</td>\n      <td>0</td>\n      <td>0.000000</td>\n      <td>0.0</td>\n      <td>0</td>\n      <td>19750.33789</td>\n      <td>8400.0</td>\n      <td>3252.245850</td>\n    </tr>\n    <tr>\n      <th>8</th>\n      <td>1</td>\n      <td>9</td>\n      <td>0</td>\n      <td>2012</td>\n      <td>91</td>\n      <td>1</td>\n      <td>3</td>\n      <td>1</td>\n      <td>1</td>\n      <td>2</td>\n      <td>...</td>\n      <td>1746.012939</td>\n      <td>2809.348389</td>\n      <td>1912.898926</td>\n      <td>1230</td>\n      <td>1.433333</td>\n      <td>100000.0</td>\n      <td>0</td>\n      <td>22653.96094</td>\n      <td>15400.0</td>\n      <td>2078.499023</td>\n    </tr>\n    <tr>\n      <th>9</th>\n      <td>1</td>\n      <td>9</td>\n      <td>0</td>\n      <td>2012</td>\n      <td>100</td>\n      <td>1</td>\n      <td>3</td>\n      <td>1</td>\n      <td>1</td>\n      <td>0</td>\n      <td>...</td>\n      <td>2587.796631</td>\n      <td>5094.404785</td>\n      <td>2961.603271</td>\n      <td>0</td>\n      <td>0.000000</td>\n      <td>0.0</td>\n      <td>0</td>\n      <td>20180.85547</td>\n      <td>8400.0</td>\n      <td>3375.603271</td>\n    </tr>\n    <tr>\n      <th>...</th>\n      <td>...</td>\n      <td>...</td>\n      <td>...</td>\n      <td>...</td>\n      <td>...</td>\n      <td>...</td>\n      <td>...</td>\n      <td>...</td>\n      <td>...</td>\n      <td>...</td>\n      <td>...</td>\n      <td>...</td>\n      <td>...</td>\n      <td>...</td>\n      <td>...</td>\n      <td>...</td>\n      <td>...</td>\n      <td>...</td>\n      <td>...</td>\n      <td>...</td>\n      <td>...</td>\n    </tr>\n    <tr>\n      <th>32291</th>\n      <td>1</td>\n      <td>9</td>\n      <td>0</td>\n      <td>2050</td>\n      <td>1704</td>\n      <td>1</td>\n      <td>3</td>\n      <td>2</td>\n      <td>12</td>\n      <td>0</td>\n      <td>...</td>\n      <td>2781.099854</td>\n      <td>3458.062988</td>\n      <td>2926.708740</td>\n      <td>2000</td>\n      <td>0.800000</td>\n      <td>0.0</td>\n      <td>220</td>\n      <td>25216.49414</td>\n      <td>14700.0</td>\n      <td>2984.668701</td>\n    </tr>\n    <tr>\n      <th>32292</th>\n      <td>1</td>\n      <td>9</td>\n      <td>0</td>\n      <td>2050</td>\n      <td>1705</td>\n      <td>1</td>\n      <td>3</td>\n      <td>2</td>\n      <td>12</td>\n      <td>0</td>\n      <td>...</td>\n      <td>2738.805420</td>\n      <td>3354.724365</td>\n      <td>2873.816406</td>\n      <td>2000</td>\n      <td>0.800000</td>\n      <td>0.0</td>\n      <td>240</td>\n      <td>22903.00195</td>\n      <td>12600.0</td>\n      <td>2923.496338</td>\n    </tr>\n    <tr>\n      <th>32293</th>\n      <td>1</td>\n      <td>9</td>\n      <td>0</td>\n      <td>2050</td>\n      <td>1706</td>\n      <td>1</td>\n      <td>3</td>\n      <td>2</td>\n      <td>12</td>\n      <td>0</td>\n      <td>...</td>\n      <td>2699.589111</td>\n      <td>3281.160400</td>\n      <td>2824.773682</td>\n      <td>2000</td>\n      <td>0.800000</td>\n      <td>0.0</td>\n      <td>260</td>\n      <td>22731.84375</td>\n      <td>12600.0</td>\n      <td>2874.453613</td>\n    </tr>\n    <tr>\n      <th>32294</th>\n      <td>1</td>\n      <td>9</td>\n      <td>0</td>\n      <td>2050</td>\n      <td>1707</td>\n      <td>1</td>\n      <td>3</td>\n      <td>2</td>\n      <td>12</td>\n      <td>0</td>\n      <td>...</td>\n      <td>2663.227295</td>\n      <td>3212.950439</td>\n      <td>2779.300293</td>\n      <td>2000</td>\n      <td>0.800000</td>\n      <td>0.0</td>\n      <td>280</td>\n      <td>22573.14063</td>\n      <td>12600.0</td>\n      <td>2828.980469</td>\n    </tr>\n    <tr>\n      <th>32295</th>\n      <td>1</td>\n      <td>9</td>\n      <td>0</td>\n      <td>2050</td>\n      <td>1708</td>\n      <td>1</td>\n      <td>3</td>\n      <td>2</td>\n      <td>12</td>\n      <td>0</td>\n      <td>...</td>\n      <td>2629.511963</td>\n      <td>3149.705322</td>\n      <td>2737.136963</td>\n      <td>2000</td>\n      <td>0.800000</td>\n      <td>0.0</td>\n      <td>300</td>\n      <td>22425.99023</td>\n      <td>12600.0</td>\n      <td>2786.816895</td>\n    </tr>\n  </tbody>\n</table>\n<p>7466 rows × 25 columns</p>\n</div>"
     },
     "metadata": {},
     "output_type": "execute_result",
     "execution_count": 11
    }
   ],
   "source": [
    "#Cost Data \n",
    "import pandas as pd\n",
    "LED_scenario = 'LED1'\n",
    "\n",
    "# Cost_data\n",
    "Cost_Data = pd.read_csv(f\"./tables/Cost_Data_{LED_scenario}.csv\")\n",
    "\n",
    "Cost_Data = Cost_Data[(Cost_Data.VehTypeID == 3) & (Cost_Data.Year <= 2050)]\n",
    "\n",
    "Cost_Data"
   ],
   "metadata": {
    "collapsed": false,
    "pycharm": {
     "name": "#%%\n",
     "is_executing": false
    }
   }
  },
  {
   "cell_type": "code",
   "execution_count": 13,
   "outputs": [
    {
     "data": {
      "text/plain": "['ScenarioID',\n 'CountryID',\n 'PolicyID',\n 'Year',\n 'TechID',\n 'TransTypeID',\n 'VehTypeID',\n 'MassCatID',\n 'FuelID',\n 'HybridFlag',\n 'EngineID',\n 'AnnFixCost',\n 'AnnVarCost',\n 'EAC',\n 'Y1Costs',\n 'AnnCostsPriv',\n 'AnnCostsCompUser',\n 'AnnCostsCompFleet',\n 'NoChargingAccessPenalty',\n 'ChargingTime',\n 'SupplyPenalty',\n 'Range',\n 'TCO',\n 'FVDepreciation',\n 'FVRunningCost']"
     },
     "metadata": {},
     "output_type": "execute_result",
     "execution_count": 13
    }
   ],
   "source": [
    "Cost_Data.columns.tolist()"
   ],
   "metadata": {
    "collapsed": false,
    "pycharm": {
     "name": "#%%\n",
     "is_executing": false
    }
   }
  },
  {
   "cell_type": "code",
   "execution_count": 17,
   "outputs": [
    {
     "traceback": [
      "\u001b[1;31m---------------------------------------------------------------------------\u001b[0m",
      "\u001b[1;31mKeyboardInterrupt\u001b[0m                         Traceback (most recent call last)",
      "\u001b[1;32m~\\AppData\\Local\\Temp/ipykernel_135940/2608196936.py\u001b[0m in \u001b[0;36m<module>\u001b[1;34m\u001b[0m\n\u001b[0;32m     10\u001b[0m         \u001b[0msub_dict\u001b[0m \u001b[1;33m=\u001b[0m \u001b[0mdict\u001b[0m\u001b[1;33m(\u001b[0m\u001b[1;33m)\u001b[0m\u001b[1;33m\u001b[0m\u001b[1;33m\u001b[0m\u001b[0m\n\u001b[0;32m     11\u001b[0m         \u001b[1;32mfor\u001b[0m \u001b[0mvariable\u001b[0m \u001b[1;32min\u001b[0m \u001b[1;33m[\u001b[0m\u001b[0mc\u001b[0m \u001b[1;32mfor\u001b[0m \u001b[0mc\u001b[0m \u001b[1;32min\u001b[0m \u001b[0mCost_Data\u001b[0m\u001b[1;33m.\u001b[0m\u001b[0mcolumns\u001b[0m\u001b[1;33m.\u001b[0m\u001b[0mtolist\u001b[0m\u001b[1;33m(\u001b[0m\u001b[1;33m)\u001b[0m \u001b[1;32mif\u001b[0m \u001b[0mc\u001b[0m \u001b[1;32mnot\u001b[0m \u001b[1;32min\u001b[0m \u001b[1;33m[\u001b[0m\u001b[1;34m'TechID'\u001b[0m\u001b[1;33m,\u001b[0m \u001b[1;34m'Year'\u001b[0m\u001b[1;33m]\u001b[0m\u001b[1;33m]\u001b[0m\u001b[1;33m:\u001b[0m\u001b[1;33m\u001b[0m\u001b[1;33m\u001b[0m\u001b[0m\n\u001b[1;32m---> 12\u001b[1;33m             \u001b[0msub_dict\u001b[0m\u001b[1;33m[\u001b[0m\u001b[0mvariable\u001b[0m\u001b[1;33m]\u001b[0m \u001b[1;33m=\u001b[0m \u001b[0mCost_Data\u001b[0m\u001b[1;33m[\u001b[0m\u001b[1;33m(\u001b[0m\u001b[0mCost_Data\u001b[0m\u001b[1;33m[\u001b[0m\u001b[1;34m'Year'\u001b[0m\u001b[1;33m]\u001b[0m \u001b[1;33m==\u001b[0m \u001b[0myear\u001b[0m\u001b[1;33m)\u001b[0m \u001b[1;33m&\u001b[0m \u001b[1;33m(\u001b[0m\u001b[0mCost_Data\u001b[0m\u001b[1;33m[\u001b[0m\u001b[1;34m'TechID'\u001b[0m\u001b[1;33m]\u001b[0m \u001b[1;33m==\u001b[0m \u001b[0mTechID\u001b[0m\u001b[1;33m)\u001b[0m\u001b[1;33m]\u001b[0m\u001b[1;33m[\u001b[0m\u001b[0mvariable\u001b[0m\u001b[1;33m]\u001b[0m\u001b[1;33m.\u001b[0m\u001b[0mitem\u001b[0m\u001b[1;33m(\u001b[0m\u001b[1;33m)\u001b[0m\u001b[1;33m\u001b[0m\u001b[1;33m\u001b[0m\u001b[0m\n\u001b[0m\u001b[0;32m     13\u001b[0m \u001b[1;33m\u001b[0m\u001b[0m\n\u001b[0;32m     14\u001b[0m         \u001b[0myear_dict\u001b[0m\u001b[1;33m[\u001b[0m\u001b[0myear\u001b[0m\u001b[1;33m]\u001b[0m \u001b[1;33m=\u001b[0m \u001b[0msub_dict\u001b[0m\u001b[1;33m\u001b[0m\u001b[1;33m\u001b[0m\u001b[0m\n",
      "\u001b[1;32m~\\.conda\\envs\\myenv\\lib\\site-packages\\pandas\\core\\ops\\common.py\u001b[0m in \u001b[0;36mnew_method\u001b[1;34m(self, other)\u001b[0m\n\u001b[0;32m     62\u001b[0m         \u001b[0mother\u001b[0m \u001b[1;33m=\u001b[0m \u001b[0mitem_from_zerodim\u001b[0m\u001b[1;33m(\u001b[0m\u001b[0mother\u001b[0m\u001b[1;33m)\u001b[0m\u001b[1;33m\u001b[0m\u001b[1;33m\u001b[0m\u001b[0m\n\u001b[0;32m     63\u001b[0m \u001b[1;33m\u001b[0m\u001b[0m\n\u001b[1;32m---> 64\u001b[1;33m         \u001b[1;32mreturn\u001b[0m \u001b[0mmethod\u001b[0m\u001b[1;33m(\u001b[0m\u001b[0mself\u001b[0m\u001b[1;33m,\u001b[0m \u001b[0mother\u001b[0m\u001b[1;33m)\u001b[0m\u001b[1;33m\u001b[0m\u001b[1;33m\u001b[0m\u001b[0m\n\u001b[0m\u001b[0;32m     65\u001b[0m \u001b[1;33m\u001b[0m\u001b[0m\n\u001b[0;32m     66\u001b[0m     \u001b[1;32mreturn\u001b[0m \u001b[0mnew_method\u001b[0m\u001b[1;33m\u001b[0m\u001b[1;33m\u001b[0m\u001b[0m\n",
      "\u001b[1;32m~\\.conda\\envs\\myenv\\lib\\site-packages\\pandas\\core\\ops\\__init__.py\u001b[0m in \u001b[0;36mwrapper\u001b[1;34m(self, other)\u001b[0m\n\u001b[0;32m    521\u001b[0m             \u001b[1;32mraise\u001b[0m \u001b[0mValueError\u001b[0m\u001b[1;33m(\u001b[0m\u001b[1;34m\"Can only compare identically-labeled Series objects\"\u001b[0m\u001b[1;33m)\u001b[0m\u001b[1;33m\u001b[0m\u001b[1;33m\u001b[0m\u001b[0m\n\u001b[0;32m    522\u001b[0m \u001b[1;33m\u001b[0m\u001b[0m\n\u001b[1;32m--> 523\u001b[1;33m         \u001b[0mlvalues\u001b[0m \u001b[1;33m=\u001b[0m \u001b[0mextract_array\u001b[0m\u001b[1;33m(\u001b[0m\u001b[0mself\u001b[0m\u001b[1;33m,\u001b[0m \u001b[0mextract_numpy\u001b[0m\u001b[1;33m=\u001b[0m\u001b[1;32mTrue\u001b[0m\u001b[1;33m)\u001b[0m\u001b[1;33m\u001b[0m\u001b[1;33m\u001b[0m\u001b[0m\n\u001b[0m\u001b[0;32m    524\u001b[0m         \u001b[0mrvalues\u001b[0m \u001b[1;33m=\u001b[0m \u001b[0mextract_array\u001b[0m\u001b[1;33m(\u001b[0m\u001b[0mother\u001b[0m\u001b[1;33m,\u001b[0m \u001b[0mextract_numpy\u001b[0m\u001b[1;33m=\u001b[0m\u001b[1;32mTrue\u001b[0m\u001b[1;33m)\u001b[0m\u001b[1;33m\u001b[0m\u001b[1;33m\u001b[0m\u001b[0m\n\u001b[0;32m    525\u001b[0m \u001b[1;33m\u001b[0m\u001b[0m\n",
      "\u001b[1;32m~\\.conda\\envs\\myenv\\lib\\site-packages\\pandas\\core\\construction.py\u001b[0m in \u001b[0;36mextract_array\u001b[1;34m(obj, extract_numpy)\u001b[0m\n\u001b[0;32m    381\u001b[0m \u001b[1;33m\u001b[0m\u001b[0m\n\u001b[0;32m    382\u001b[0m     \u001b[1;32mif\u001b[0m \u001b[0mextract_numpy\u001b[0m \u001b[1;32mand\u001b[0m \u001b[0misinstance\u001b[0m\u001b[1;33m(\u001b[0m\u001b[0mobj\u001b[0m\u001b[1;33m,\u001b[0m \u001b[0mABCPandasArray\u001b[0m\u001b[1;33m)\u001b[0m\u001b[1;33m:\u001b[0m\u001b[1;33m\u001b[0m\u001b[1;33m\u001b[0m\u001b[0m\n\u001b[1;32m--> 383\u001b[1;33m         \u001b[0mobj\u001b[0m \u001b[1;33m=\u001b[0m \u001b[0mobj\u001b[0m\u001b[1;33m.\u001b[0m\u001b[0mto_numpy\u001b[0m\u001b[1;33m(\u001b[0m\u001b[1;33m)\u001b[0m\u001b[1;33m\u001b[0m\u001b[1;33m\u001b[0m\u001b[0m\n\u001b[0m\u001b[0;32m    384\u001b[0m \u001b[1;33m\u001b[0m\u001b[0m\n\u001b[0;32m    385\u001b[0m     \u001b[1;32mreturn\u001b[0m \u001b[0mobj\u001b[0m\u001b[1;33m\u001b[0m\u001b[1;33m\u001b[0m\u001b[0m\n",
      "\u001b[1;32m~\\.conda\\envs\\myenv\\lib\\site-packages\\pandas\\core\\arrays\\numpy_.py\u001b[0m in \u001b[0;36mto_numpy\u001b[1;34m(self, dtype, copy, na_value)\u001b[0m\n\u001b[0;32m    420\u001b[0m     \u001b[1;31m# Additional Methods\u001b[0m\u001b[1;33m\u001b[0m\u001b[1;33m\u001b[0m\u001b[1;33m\u001b[0m\u001b[0m\n\u001b[0;32m    421\u001b[0m     \u001b[1;32mdef\u001b[0m \u001b[0mto_numpy\u001b[0m\u001b[1;33m(\u001b[0m\u001b[0mself\u001b[0m\u001b[1;33m,\u001b[0m \u001b[0mdtype\u001b[0m\u001b[1;33m=\u001b[0m\u001b[1;32mNone\u001b[0m\u001b[1;33m,\u001b[0m \u001b[0mcopy\u001b[0m\u001b[1;33m=\u001b[0m\u001b[1;32mFalse\u001b[0m\u001b[1;33m,\u001b[0m \u001b[0mna_value\u001b[0m\u001b[1;33m=\u001b[0m\u001b[0mlib\u001b[0m\u001b[1;33m.\u001b[0m\u001b[0mno_default\u001b[0m\u001b[1;33m)\u001b[0m\u001b[1;33m:\u001b[0m\u001b[1;33m\u001b[0m\u001b[1;33m\u001b[0m\u001b[0m\n\u001b[1;32m--> 422\u001b[1;33m         \u001b[0mresult\u001b[0m \u001b[1;33m=\u001b[0m \u001b[0mnp\u001b[0m\u001b[1;33m.\u001b[0m\u001b[0masarray\u001b[0m\u001b[1;33m(\u001b[0m\u001b[0mself\u001b[0m\u001b[1;33m.\u001b[0m\u001b[0m_ndarray\u001b[0m\u001b[1;33m,\u001b[0m \u001b[0mdtype\u001b[0m\u001b[1;33m=\u001b[0m\u001b[0mdtype\u001b[0m\u001b[1;33m)\u001b[0m\u001b[1;33m\u001b[0m\u001b[1;33m\u001b[0m\u001b[0m\n\u001b[0m\u001b[0;32m    423\u001b[0m \u001b[1;33m\u001b[0m\u001b[0m\n\u001b[0;32m    424\u001b[0m         \u001b[1;32mif\u001b[0m \u001b[1;33m(\u001b[0m\u001b[0mcopy\u001b[0m \u001b[1;32mor\u001b[0m \u001b[0mna_value\u001b[0m \u001b[1;32mis\u001b[0m \u001b[1;32mnot\u001b[0m \u001b[0mlib\u001b[0m\u001b[1;33m.\u001b[0m\u001b[0mno_default\u001b[0m\u001b[1;33m)\u001b[0m \u001b[1;32mand\u001b[0m \u001b[0mresult\u001b[0m \u001b[1;32mis\u001b[0m \u001b[0mself\u001b[0m\u001b[1;33m.\u001b[0m\u001b[0m_ndarray\u001b[0m\u001b[1;33m:\u001b[0m\u001b[1;33m\u001b[0m\u001b[1;33m\u001b[0m\u001b[0m\n",
      "\u001b[1;32m~\\.conda\\envs\\myenv\\lib\\site-packages\\numpy\\core\\_asarray.py\u001b[0m in \u001b[0;36masarray\u001b[1;34m(a, dtype, order)\u001b[0m\n\u001b[0;32m     83\u001b[0m \u001b[1;33m\u001b[0m\u001b[0m\n\u001b[0;32m     84\u001b[0m     \"\"\"\n\u001b[1;32m---> 85\u001b[1;33m     \u001b[1;32mreturn\u001b[0m \u001b[0marray\u001b[0m\u001b[1;33m(\u001b[0m\u001b[0ma\u001b[0m\u001b[1;33m,\u001b[0m \u001b[0mdtype\u001b[0m\u001b[1;33m,\u001b[0m \u001b[0mcopy\u001b[0m\u001b[1;33m=\u001b[0m\u001b[1;32mFalse\u001b[0m\u001b[1;33m,\u001b[0m \u001b[0morder\u001b[0m\u001b[1;33m=\u001b[0m\u001b[0morder\u001b[0m\u001b[1;33m)\u001b[0m\u001b[1;33m\u001b[0m\u001b[1;33m\u001b[0m\u001b[0m\n\u001b[0m\u001b[0;32m     86\u001b[0m \u001b[1;33m\u001b[0m\u001b[0m\n\u001b[0;32m     87\u001b[0m \u001b[1;33m\u001b[0m\u001b[0m\n",
      "\u001b[1;31mKeyboardInterrupt\u001b[0m: "
     ],
     "ename": "KeyboardInterrupt",
     "evalue": "",
     "output_type": "error"
    }
   ],
   "source": [
    "Cost_Data_dict = dict()\n",
    "\n",
    "for TechID in Cost_Data['TechID'].tolist():\n",
    "    # dictionary for this techid for each YEAR\n",
    "    year_dict = dict()\n",
    "    \n",
    "    for year in Cost_Data['Year'].tolist():\n",
    "        \n",
    "        # dictionary to contain all variables for this year&techId\n",
    "        sub_dict = dict()\n",
    "        for variable in [c for c in Cost_Data.columns.tolist() if c not in ['TechID', 'Year']]:\n",
    "            sub_dict[variable] = Cost_Data[(Cost_Data['Year'] == year) & (Cost_Data['TechID'] == TechID)][variable].item()\n",
    "    \n",
    "        year_dict[year] = sub_dict\n",
    "        \n",
    "    Cost_Data_dict[TechID] = year_dict\n",
    "    \n",
    "Cost_Data_dict"
   ],
   "metadata": {
    "collapsed": false,
    "pycharm": {
     "name": "#%%\n",
     "is_executing": false
    }
   }
  },
  {
   "cell_type": "code",
   "execution_count": 16,
   "outputs": [
    {
     "data": {
      "text/plain": "{0: {2: 'dink', 3: 'dink'}, 1: {2: 'dink', 3: 'dink'}}"
     },
     "metadata": {},
     "output_type": "execute_result",
     "execution_count": 16
    }
   ],
   "source": [],
   "metadata": {
    "collapsed": false,
    "pycharm": {
     "name": "#%%\n",
     "is_executing": false
    }
   }
  },
  {
   "cell_type": "code",
   "execution_count": 15,
   "outputs": [
    {
     "data": {
      "text/plain": "{}"
     },
     "metadata": {},
     "output_type": "execute_result",
     "execution_count": 15
    }
   ],
   "source": [],
   "metadata": {
    "collapsed": false,
    "pycharm": {
     "name": "#%%\n",
     "is_executing": false
    }
   }
  }
 ],
 "metadata": {
  "kernelspec": {
   "display_name": "Python 3",
   "language": "python",
   "name": "python3"
  },
  "language_info": {
   "codemirror_mode": {
    "name": "ipython",
    "version": 2
   },
   "file_extension": ".py",
   "mimetype": "text/x-python",
   "name": "python",
   "nbconvert_exporter": "python",
   "pygments_lexer": "ipython2",
   "version": "2.7.6"
  },
  "pycharm": {
   "stem_cell": {
    "cell_type": "raw",
    "source": [],
    "metadata": {
     "collapsed": false
    }
   }
  }
 },
 "nbformat": 4,
 "nbformat_minor": 0
}